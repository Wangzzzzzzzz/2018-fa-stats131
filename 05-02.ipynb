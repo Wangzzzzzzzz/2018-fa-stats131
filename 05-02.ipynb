{
 "cells": [
  {
   "cell_type": "code",
   "execution_count": 3,
   "metadata": {},
   "outputs": [],
   "source": [
    "import numpy as np\n",
    "import pandas as pd\n",
    "import matplotlib.pyplot as plt"
   ]
  },
  {
   "cell_type": "code",
   "execution_count": 4,
   "metadata": {},
   "outputs": [],
   "source": [
    "flights = pd.read_csv('nycflights.csv', dtype = {'dep_time' : object, \n",
    "                                                 'dep_delay': object, \n",
    "                                                 'arr_time' : object, \n",
    "                                                 'arr_delay': object, \n",
    "                                                 'air_time' : object})\n",
    "flights['date'] = pd.to_datetime({'year':flights.year, 'month':flights.month, 'day':flights.day})\n",
    "def convert_time(column_name):\n",
    "    the_min = flights[column_name][ flights[column_name].notnull() ].astype(str).str[-2:  ]\n",
    "    the_hr  = flights[column_name][ flights[column_name].notnull() ].astype(str).str[  :-2]\n",
    "    date_time = pd.to_datetime({'year':flights.year, 'month':flights.month, 'day':flights.day, \n",
    "                                'hour': the_hr, 'minute': the_min})\n",
    "    return date_time\n",
    "dep_date_time = convert_time('dep_time')\n",
    "sched_dep_date_time = convert_time('sched_dep_time')\n",
    "arr_date_time       = convert_time('arr_time')\n",
    "sched_arr_date_time = convert_time('sched_arr_time')\n",
    "datetimes = pd.concat({'dep_date_time': dep_date_time,\n",
    "           'sched_dep_date_time': sched_dep_date_time, \n",
    "           'arr_date_time':arr_date_time, \n",
    "           'sched_arr_date_time':sched_arr_date_time}, axis = 1)\n",
    "flights = flights.join(datetimes)  # we use the .join() function\n",
    "flights = flights.drop(['year','month','day'], axis = 1)\n",
    "airlines = pd.read_csv('airlines.csv', index_col = 'carrier')"
   ]
  },
  {
   "cell_type": "markdown",
   "metadata": {},
   "source": [
    "### Which day of the week is busiest?"
   ]
  },
  {
   "cell_type": "code",
   "execution_count": 10,
   "metadata": {},
   "outputs": [
    {
     "data": {
      "text/plain": [
       "0.0    49311\n",
       "1.0    49176\n",
       "2.0    48755\n",
       "3.0    48487\n",
       "4.0    48558\n",
       "5.0    37854\n",
       "6.0    45499\n",
       "Name: date, dtype: int64"
      ]
     },
     "execution_count": 10,
     "metadata": {},
     "output_type": "execute_result"
    }
   ],
   "source": [
    "w = flights.groupby(dep_date_time.dt.weekday).date.count()  # monday = 0, sunday = 6\n",
    "w"
   ]
  },
  {
   "cell_type": "code",
   "execution_count": 11,
   "metadata": {},
   "outputs": [],
   "source": [
    "d = pd.DataFrame(w)\n",
    "# rename the index with a dictionary\n",
    "d.rename({0:'Mon', 1:'Tue',2:'Wed',3:'Thu',4:'Fri',5:'Sat',6:'Sun'}, axis = 'index', inplace = True)"
   ]
  },
  {
   "cell_type": "code",
   "execution_count": 12,
   "metadata": {},
   "outputs": [
    {
     "data": {
      "image/png": "[encoded data removed]",
      "text/plain": [
       "<Figure size 432x288 with 1 Axes>"
      ]
     },
     "metadata": {
      "needs_background": "light"
     },
     "output_type": "display_data"
    }
   ],
   "source": [
    "d.plot(kind = 'bar', color = 'dodgerblue')\n",
    "plt.show()"
   ]
  },
  {
   "cell_type": "code",
   "execution_count": 14,
   "metadata": {},
   "outputs": [
    {
     "data": {
      "text/plain": [
       "Friday       48558\n",
       "Monday       49311\n",
       "Saturday     37854\n",
       "Sunday       45499\n",
       "Thursday     48487\n",
       "Tuesday      49176\n",
       "Wednesday    48755\n",
       "Name: date, dtype: int64"
      ]
     },
     "execution_count": 14,
     "metadata": {},
     "output_type": "execute_result"
    }
   ],
   "source": [
    "flights.groupby(dep_date_time.dt.weekday_name).date.count()"
   ]
  },
  {
   "cell_type": "code",
   "execution_count": 24,
   "metadata": {},
   "outputs": [
    {
     "data": {
      "text/plain": [
       "Domingo      45499\n",
       "Jueves       48487\n",
       "Lunes        49311\n",
       "Martes       49176\n",
       "Miércoles    48755\n",
       "Sábado       37854\n",
       "Viernes      48558\n",
       "Name: date, dtype: int64"
      ]
     },
     "execution_count": 24,
     "metadata": {},
     "output_type": "execute_result"
    }
   ],
   "source": [
    "flights.groupby(dep_date_time.dt.day_name('spanish')).date.count()  # I later learned of day_name()\n",
    "# you need to specify the language to use"
   ]
  },
  {
   "cell_type": "markdown",
   "metadata": {},
   "source": [
    "### Which carriers fly out of which airports?"
   ]
  },
  {
   "cell_type": "code",
   "execution_count": null,
   "metadata": {},
   "outputs": [],
   "source": [
    "flights.groupby(['carrier','origin']).flight.count()"
   ]
  },
  {
   "cell_type": "markdown",
   "metadata": {},
   "source": [
    "You can make a 'pivot table' by unstacking the multi-index"
   ]
  },
  {
   "cell_type": "code",
   "execution_count": null,
   "metadata": {},
   "outputs": [],
   "source": [
    "flights.groupby(['carrier','origin']).flight.count().unstack()"
   ]
  },
  {
   "cell_type": "markdown",
   "metadata": {},
   "source": [
    "You can also make a pivot table using the pivot_table method."
   ]
  },
  {
   "cell_type": "code",
   "execution_count": null,
   "metadata": {},
   "outputs": [],
   "source": [
    "flights.pivot_table('flight',index = 'carrier', columns = 'origin', aggfunc = 'count')"
   ]
  },
  {
   "cell_type": "code",
   "execution_count": null,
   "metadata": {},
   "outputs": [],
   "source": [
    "flights.pivot_table('flight',index = 'carrier', \n",
    "                    columns = 'origin', aggfunc = 'count').plot.bar(stacked = True)"
   ]
  },
  {
   "cell_type": "markdown",
   "metadata": {},
   "source": [
    "You can see the top 4 carriers: B6, DL, EV, UA\n",
    "\n",
    "It appears:\n",
    "- B6 flies out of JFK the most.\n",
    "- DL uses JFK and LGA equally\n",
    "- EV uses EWR heavily\n",
    "- UA uses EWR heavily as well\n"
   ]
  },
  {
   "cell_type": "markdown",
   "metadata": {},
   "source": [
    "I'm curious to see for each of the airports, if one of the carriers will have more 'clout' because it is a bigger user of the airport."
   ]
  },
  {
   "cell_type": "code",
   "execution_count": null,
   "metadata": {},
   "outputs": [],
   "source": [
    "ewr = flights.loc[flights.origin == 'EWR'].groupby('carrier').flight.count().sort_values(ascending = False)\n",
    "ewr"
   ]
  },
  {
   "cell_type": "markdown",
   "metadata": {},
   "source": [
    "### Let's look at flights to Los Angeles"
   ]
  },
  {
   "cell_type": "code",
   "execution_count": null,
   "metadata": {},
   "outputs": [],
   "source": [
    "la = flights.loc[flights.dest.isin(['LAX','BUR','ONT','LGB'])]"
   ]
  },
  {
   "cell_type": "code",
   "execution_count": null,
   "metadata": {},
   "outputs": [],
   "source": [
    "la.dest.unique()"
   ]
  },
  {
   "cell_type": "code",
   "execution_count": null,
   "metadata": {},
   "outputs": [],
   "source": [
    "la.dest.value_counts()"
   ]
  },
  {
   "cell_type": "code",
   "execution_count": null,
   "metadata": {},
   "outputs": [],
   "source": [
    "la.carrier.value_counts()"
   ]
  },
  {
   "cell_type": "code",
   "execution_count": null,
   "metadata": {},
   "outputs": [],
   "source": [
    "la.groupby('dest').carrier.value_counts()"
   ]
  },
  {
   "cell_type": "markdown",
   "metadata": {},
   "source": [
    "B6 (JetBlue) is the only carrier that goes to Burbank or Long Beach. There are no flights from Ontario to New York."
   ]
  },
  {
   "cell_type": "code",
   "execution_count": null,
   "metadata": {},
   "outputs": [],
   "source": [
    "la.groupby('dest').origin.value_counts()"
   ]
  },
  {
   "cell_type": "markdown",
   "metadata": {},
   "source": [
    "No direct flights from LaGuardia to Los Angeles. If you want to fly direct to Burbank or Long Beach, you must depart from JFK. "
   ]
  },
  {
   "cell_type": "code",
   "execution_count": null,
   "metadata": {},
   "outputs": [],
   "source": [
    "la.dep_delay[la.dep_delay.notnull()].astype(int).groupby(la.dest).mean()"
   ]
  },
  {
   "cell_type": "code",
   "execution_count": null,
   "metadata": {},
   "outputs": [],
   "source": []
  }
 ],
 "metadata": {
  "kernelspec": {
   "display_name": "Python 3",
   "language": "python",
   "name": "python3"
  },
  "language_info": {
   "codemirror_mode": {
    "name": "ipython",
    "version": 3
   },
   "file_extension": ".py",
   "mimetype": "text/x-python",
   "name": "python",
   "nbconvert_exporter": "python",
   "pygments_lexer": "ipython3",
   "version": "3.6.6"
  }
 },
 "nbformat": 4,
 "nbformat_minor": 2
}
